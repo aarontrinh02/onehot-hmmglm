{
 "cells": [
  {
   "cell_type": "code",
   "execution_count": 21,
   "metadata": {},
   "outputs": [],
   "source": [
    "import numpy as np\n",
    "import pandas as pd\n",
    "import matplotlib.pyplot as plt\n",
    "import seaborn as sns\n",
    "from tqdm import trange\n",
    "\n",
    "import torch\n",
    "from torch import nn\n",
    "import torch.nn.functional as F\n",
    "from torch.distributions.dirichlet import Dirichlet\n",
    "\n",
    "from sklearn.metrics import accuracy_score, balanced_accuracy_score, f1_score\n",
    "\n",
    "from hmmglm import model, nonlinearities, utils, distributions"
   ]
  },
  {
   "cell_type": "code",
   "execution_count": 26,
   "metadata": {},
   "outputs": [],
   "source": [
    "def train_onehot_hmmglm(\n",
    "        inf_model: model.HMMGLM,\n",
    "        optimizer: torch.optim.Optimizer,\n",
    "        spikes_list: torch.FloatTensor,\n",
    "        convolved_spikes_list: torch.FloatTensor,\n",
    "        n_epochs: int = 100,\n",
    "        print_freq: int = 1,\n",
    "        n_sub_epochs: int = 100\n",
    ") -> torch.FloatTensor:\n",
    "    \n",
    "    n_samples, n_time_bins, n_neurons = spikes_list.shape\n",
    "\n",
    "    epoch_loss_list = torch.zeros(n_epochs)\n",
    "    print('epoch', 'loss')\n",
    "\n",
    "    for epoch in range(n_epochs):\n",
    "        for sample in range(n_samples):\n",
    "            spikes = spikes_list[sample]\n",
    "            convolved_spikes = convolved_spikes_list[sample]\n",
    "\n",
    "            gamma, xi = inf_model.forward_backward(spikes, convolved_spikes)\n",
    "            inf_model.set_adjacency_type('gumbel_softmax')\n",
    "            for sub_epoch in range(n_sub_epochs):\n",
    "                log_likelihood = inf_model.m_step(spikes, convolved_spikes, gamma, xi)\n",
    "                loss = -inf_model.m_step(spikes, convolved_spikes, gamma, xi) - inf_model.adjacency_prior_log_likelihood()\n",
    "                # loss = -inf_model.m_step(spikes, convolved_spikes, gamma, xi) - inf_model.adjacency_prior_log_likelihood() + inf_model.sampled_adjacency_entropy()\n",
    "                optimizer.zero_grad()\n",
    "                loss.backward()\n",
    "                optimizer.step()\n",
    "                inf_model.correct_extreme_onehot()\n",
    "            inf_model.set_adjacency_type('softmax')\n",
    "            epoch_loss_list[epoch] += loss.item()\n",
    "        if epoch % print_freq == 0:\n",
    "            print(epoch, epoch_loss_list[epoch].item(), log_likelihood, flush=True)\n",
    "    \n",
    "    return epoch_loss_list"
   ]
  },
  {
   "cell_type": "code",
   "execution_count": 8,
   "metadata": {},
   "outputs": [],
   "source": [
    "n_hidden_states = 4"
   ]
  },
  {
   "cell_type": "code",
   "execution_count": 9,
   "metadata": {},
   "outputs": [
    {
     "name": "stdout",
     "output_type": "stream",
     "text": [
      "Training data shape: torch.Size([1889, 750, 58])\n",
      "Testing data shape: torch.Size([945, 750, 58])\n"
     ]
    }
   ],
   "source": [
    "import os\n",
    "import numpy as np\n",
    "import torch\n",
    "from scipy.io import loadmat\n",
    "from sklearn.model_selection import train_test_split\n",
    "\n",
    "def preprocess_data(data_dir):\n",
    "    all_sequences = []\n",
    "    max_neurons = 0\n",
    "    \n",
    "    for subdir in os.listdir(data_dir):\n",
    "        subdir_path = os.path.join(data_dir, subdir)\n",
    "        if os.path.isdir(subdir_path):\n",
    "            # Load spike data\n",
    "            spike_data_path = os.path.join(subdir_path, f\"{subdir}_SpikeData.dat\")\n",
    "            spike_data = np.loadtxt(spike_data_path)\n",
    "            spike_times = spike_data[:, 0]\n",
    "            neuron_ids = spike_data[:, 1].astype(int)\n",
    "            \n",
    "            # Load behavior data\n",
    "            behavior_data_path = os.path.join(subdir_path, f\"{subdir}_Behavior.dat\")\n",
    "            behavior_data = np.loadtxt(behavior_data_path)\n",
    "            trial_starts = behavior_data[:, 0]\n",
    "            \n",
    "            # Update max_neurons\n",
    "            max_neurons = max(max_neurons, neuron_ids.max() + 1)\n",
    "            \n",
    "            # Parameters\n",
    "            bin_size = 0.02  # 20 ms\n",
    "            n_time_bins = 750\n",
    "            sequence_duration = 15000  # 5 seconds before + 10 seconds after\n",
    "            \n",
    "            for start_time in trial_starts:\n",
    "                sequence_start = start_time - 5000\n",
    "                sequence_end = start_time + 10000\n",
    "                \n",
    "                # Initialize sequence array\n",
    "                sequence = np.zeros((n_time_bins, neuron_ids.max() + 1))\n",
    "                \n",
    "                # Bin spikes\n",
    "                for neuron in range(neuron_ids.max() + 1):\n",
    "                    neuron_spikes = spike_times[(neuron_ids == neuron) & \n",
    "                                                (spike_times >= sequence_start) & \n",
    "                                                (spike_times < sequence_end)]\n",
    "                    binned_spikes, _ = np.histogram(neuron_spikes, bins=n_time_bins, \n",
    "                                                    range=(sequence_start, sequence_end))\n",
    "                    sequence[:, neuron] = binned_spikes\n",
    "                \n",
    "                all_sequences.append(sequence)\n",
    "    \n",
    "    # Pad sequences to have the same number of neurons\n",
    "    padded_sequences = []\n",
    "    for seq in all_sequences:\n",
    "        padded_seq = np.zeros((n_time_bins, max_neurons))\n",
    "        padded_seq[:, :seq.shape[1]] = seq\n",
    "        padded_sequences.append(padded_seq)\n",
    "    \n",
    "    # Convert to PyTorch tensor\n",
    "    all_sequences = torch.FloatTensor(np.array(padded_sequences))\n",
    "    \n",
    "    # Split into training and testing sets\n",
    "    train_sequences, test_sequences = train_test_split(all_sequences, test_size=1/3, random_state=42)\n",
    "    \n",
    "    return train_sequences, test_sequences, all_sequences\n",
    "\n",
    "# Usage\n",
    "data_dir = './mPFC_Data'\n",
    "train_spikes, test_spikes, all_sequences = preprocess_data(data_dir)\n",
    "\n",
    "print(f\"Training data shape: {train_spikes.shape}\")\n",
    "print(f\"Testing data shape: {test_spikes.shape}\")"
   ]
  },
  {
   "cell_type": "code",
   "execution_count": 37,
   "metadata": {},
   "outputs": [
    {
     "name": "stdout",
     "output_type": "stream",
     "text": [
      "basis: tensor([0.6364, 0.2341, 0.0861, 0.0317, 0.0117])\n",
      "flipped basis: tensor([0.0117, 0.0317, 0.0861, 0.2341, 0.6364])\n"
     ]
    }
   ],
   "source": [
    "decay = 1\n",
    "window_size = 5\n",
    "basis = utils.exp_basis(decay=1, window_size=window_size, time_span=window_size)\n",
    "print(f'basis: {basis}')\n",
    "flipped_basis = torch.flip(basis, (0,))\n",
    "print(f'flipped basis: {flipped_basis}')"
   ]
  },
  {
   "cell_type": "code",
   "execution_count": 16,
   "metadata": {},
   "outputs": [
    {
     "name": "stdout",
     "output_type": "stream",
     "text": [
      "58\n"
     ]
    }
   ],
   "source": [
    "print(train_spikes.shape[2])"
   ]
  },
  {
   "cell_type": "code",
   "execution_count": 27,
   "metadata": {},
   "outputs": [
    {
     "name": "stdout",
     "output_type": "stream",
     "text": [
      "epoch loss\n",
      "0 -380171200.0 tensor(-3559.7234, grad_fn=<AddBackward0>)\n",
      "1 -554236096.0 tensor(-3064.2285, grad_fn=<AddBackward0>)\n",
      "2 -562594944.0 tensor(-2963.9395, grad_fn=<AddBackward0>)\n",
      "3 -566779520.0 tensor(-2933.7483, grad_fn=<AddBackward0>)\n",
      "4 -570869056.0 tensor(-2924.4148, grad_fn=<AddBackward0>)\n",
      "5 -571570752.0 tensor(-2937.9509, grad_fn=<AddBackward0>)\n",
      "6 -566629760.0 tensor(-2931.7375, grad_fn=<AddBackward0>)\n",
      "7 -567421632.0 tensor(-2969.5383, grad_fn=<AddBackward0>)\n",
      "8 -569674304.0 tensor(-2975.6296, grad_fn=<AddBackward0>)\n",
      "9 -572243584.0 tensor(-2967.6680, grad_fn=<AddBackward0>)\n",
      "10 -567890432.0 tensor(-4159.4424, grad_fn=<AddBackward0>)\n",
      "11 -567447232.0 tensor(-2974.0554, grad_fn=<AddBackward0>)\n",
      "12 -568205184.0 tensor(-2981.2344, grad_fn=<AddBackward0>)\n",
      "13 -571223040.0 tensor(-2998.8735, grad_fn=<AddBackward0>)\n",
      "14 -571121792.0 tensor(-2973.3308, grad_fn=<AddBackward0>)\n",
      "15 -566817856.0 tensor(-2978.8665, grad_fn=<AddBackward0>)\n",
      "16 -567468736.0 tensor(-2966.7178, grad_fn=<AddBackward0>)\n",
      "17 -569839104.0 tensor(-2969.9849, grad_fn=<AddBackward0>)\n",
      "18 -572202816.0 tensor(-2982.5168, grad_fn=<AddBackward0>)\n",
      "19 -567486400.0 tensor(-3320.1357, grad_fn=<AddBackward0>)\n",
      "20 -567461312.0 tensor(-2998.0884, grad_fn=<AddBackward0>)\n",
      "21 -568440128.0 tensor(-3041.1194, grad_fn=<AddBackward0>)\n",
      "22 -571341568.0 tensor(-2972.6987, grad_fn=<AddBackward0>)\n",
      "23 -570693120.0 tensor(-3127.9216, grad_fn=<AddBackward0>)\n",
      "24 -566931584.0 tensor(-2970.6870, grad_fn=<AddBackward0>)\n",
      "25 -567538816.0 tensor(-2965.9121, grad_fn=<AddBackward0>)\n",
      "26 -570066944.0 tensor(-3016.4905, grad_fn=<AddBackward0>)\n",
      "27 -572366848.0 tensor(-2972.8611, grad_fn=<AddBackward0>)\n",
      "28 -567177728.0 tensor(-2972.1929, grad_fn=<AddBackward0>)\n",
      "29 -567456064.0 tensor(-2967.1650, grad_fn=<AddBackward0>)\n",
      "30 -568610176.0 tensor(-2971.0569, grad_fn=<AddBackward0>)\n",
      "31 -571527936.0 tensor(-2968.4036, grad_fn=<AddBackward0>)\n",
      "32 -570287424.0 tensor(-2967.7925, grad_fn=<AddBackward0>)\n",
      "33 -567094784.0 tensor(-2983.1062, grad_fn=<AddBackward0>)\n",
      "34 -567540160.0 tensor(-4606.2500, grad_fn=<AddBackward0>)\n",
      "35 -570316992.0 tensor(-2998.5034, grad_fn=<AddBackward0>)\n",
      "36 -572483648.0 tensor(-2993.2434, grad_fn=<AddBackward0>)\n",
      "37 -566961152.0 tensor(-3272.5979, grad_fn=<AddBackward0>)\n",
      "38 -567519360.0 tensor(-2964.4983, grad_fn=<AddBackward0>)\n",
      "39 -568926016.0 tensor(-2967.3096, grad_fn=<AddBackward0>)\n",
      "40 -571652608.0 tensor(-2972.6255, grad_fn=<AddBackward0>)\n",
      "41 -569793728.0 tensor(-3701.0854, grad_fn=<AddBackward0>)\n",
      "42 -567230144.0 tensor(-2987.9543, grad_fn=<AddBackward0>)\n",
      "43 -567649088.0 tensor(-3145.4692, grad_fn=<AddBackward0>)\n",
      "44 -570424320.0 tensor(-3436.0928, grad_fn=<AddBackward0>)\n",
      "45 -572463552.0 tensor(-3189.5203, grad_fn=<AddBackward0>)\n",
      "46 -566611136.0 tensor(-2975.2144, grad_fn=<AddBackward0>)\n",
      "47 -567325568.0 tensor(-2971.2598, grad_fn=<AddBackward0>)\n",
      "48 -568793408.0 tensor(-3014.4414, grad_fn=<AddBackward0>)\n",
      "49 -571588288.0 tensor(-2973.2034, grad_fn=<AddBackward0>)\n"
     ]
    }
   ],
   "source": [
    "test_model1 = model.OnehotHMMGLM(\n",
    "    n_states=n_hidden_states,\n",
    "    n_neurons=train_spikes.shape[2],\n",
    "    basis=basis\n",
    ")\n",
    "torch.manual_seed=0\n",
    "epoch_loss_list = train_onehot_hmmglm(\n",
    "    inf_model=test_model1,\n",
    "    optimizer=torch.optim.Adam(test_model1.parameters(), lr=0.01),\n",
    "    spikes_list=train_spikes,\n",
    "    convolved_spikes_list=train_spikes,\n",
    "    n_epochs=50,\n",
    "    print_freq=1,\n",
    "    n_sub_epochs=1\n",
    ")"
   ]
  },
  {
   "cell_type": "code",
   "execution_count": 28,
   "metadata": {},
   "outputs": [],
   "source": [
    "def visualize_states(states: torch.LongTensor, ax):\n",
    "    ax.matshow(states[None, :], vmin=0, vmax=9, cmap='tab10', aspect='auto')"
   ]
  },
  {
   "cell_type": "code",
   "execution_count": 38,
   "metadata": {},
   "outputs": [
    {
     "data": {
      "text/plain": [
       "Text(0.5, 0.01, 'time')"
      ]
     },
     "execution_count": 38,
     "metadata": {},
     "output_type": "execute_result"
    },
    {
     "data": {
      "image/png": "[encoded data removed]",
      "text/plain": [
       "<Figure size 1200x300 with 2 Axes>"
      ]
     },
     "metadata": {},
     "output_type": "display_data"
    }
   ],
   "source": [
    "sample = 144\n",
    "\n",
    "fig, axs = plt.subplots(2, 1, figsize=(12, 3), layout='constrained', sharex=True)\n",
    "axs[0].tick_params(top=False, labeltop=False, bottom=True, labelbottom=False, left=False, labelleft=False)\n",
    "axs[0].set(ylabel='true')\n",
    "ax = axs[1]\n",
    "states_inferred = test_model1.forward_backward(test_spikes[sample], test_spikes[sample])[0].argmax(dim=-1)\n",
    "visualize_states(states_inferred, ax)\n",
    "ax.tick_params(top=False, labeltop=False, bottom=True, labelbottom=False, left=False, labelleft=False)\n",
    "ax.set(ylabel=f'{test_model1}')\n",
    "ax.tick_params(labelbottom=True)\n",
    "ax.set(xticks=[0, 500, 1000, 1500, 2000])\n",
    "fig.supxlabel('time')"
   ]
  },
  {
   "cell_type": "code",
   "execution_count": 36,
   "metadata": {},
   "outputs": [
    {
     "name": "stdout",
     "output_type": "stream",
     "text": [
      "tensor([0, 0, 0, 0, 0, 0, 0, 0, 0, 0, 0, 0, 0, 0, 0, 0, 0, 0, 0, 0, 0, 0, 0, 0,\n",
      "        0, 0, 0, 0, 0, 0, 0, 0, 0, 0, 0, 0, 0, 0, 0, 0, 0, 0, 0, 0, 0, 0, 0, 0,\n",
      "        0, 0, 0, 0, 0, 0, 0, 0, 0, 0, 0, 0, 0, 0, 0, 0, 0, 0, 0, 0, 0, 0, 0, 0,\n",
      "        0, 0, 0, 0, 0, 0, 0, 0, 0, 0, 0, 0, 0, 0, 0, 0, 0, 0, 0, 0, 0, 0, 0, 0,\n",
      "        0, 0, 0, 0, 0, 0, 0, 0, 0, 0, 0, 0, 0, 0, 0, 0, 0, 0, 0, 0, 0, 0, 0, 0,\n",
      "        0, 0, 0, 0, 0, 0, 0, 0, 0, 0, 0, 0, 0, 0, 0, 0, 0, 0, 0, 0, 0, 0, 0, 0,\n",
      "        0, 0, 0, 0, 0, 0, 0, 0, 0, 0, 0, 0, 0, 0, 0, 0, 0, 0, 0, 0, 0, 0, 0, 0,\n",
      "        0, 0, 0, 0, 0, 0, 0, 0, 0, 0, 0, 0, 0, 0, 0, 0, 0, 0, 0, 0, 0, 0, 0, 0,\n",
      "        0, 0, 0, 0, 0, 0, 0, 0, 0, 0, 0, 0, 0, 0, 0, 0, 0, 0, 0, 0, 0, 0, 0, 0,\n",
      "        0, 0, 0, 0, 0, 0, 0, 0, 0, 0, 0, 0, 0, 0, 0, 0, 0, 0, 0, 0, 0, 0, 0, 0,\n",
      "        0, 0, 0, 0, 0, 0, 0, 0, 0, 0, 0, 0, 0, 0, 0, 0, 0, 0, 0, 0, 0, 0, 0, 0,\n",
      "        0, 0, 0, 0, 0, 0, 0, 0, 0, 0, 0, 0, 0, 0, 0, 0, 0, 0, 0, 0, 0, 0, 0, 0,\n",
      "        0, 0, 0, 0, 0, 0, 0, 0, 0, 0, 0, 0, 0, 0, 0, 0, 0, 0, 0, 0, 0, 0, 0, 0,\n",
      "        0, 0, 0, 0, 0, 0, 0, 0, 0, 0, 0, 0, 0, 0, 0, 0, 0, 0, 0, 0, 0, 0, 0, 0,\n",
      "        0, 0, 0, 0, 0, 0, 0, 0, 0, 0, 0, 0, 0, 0, 0, 0, 0, 0, 0, 0, 0, 0, 0, 0,\n",
      "        0, 0, 0, 0, 0, 0, 0, 0, 0, 0, 0, 0, 0, 0, 0, 0, 0, 0, 0, 0, 0, 0, 0, 0,\n",
      "        0, 0, 0, 0, 0, 0, 0, 0, 0, 0, 0, 0, 0, 0, 0, 0, 0, 0, 0, 0, 0, 0, 0, 0,\n",
      "        0, 0, 0, 0, 0, 0, 0, 0, 0, 0, 0, 0, 0, 0, 0, 0, 0, 0, 0, 0, 0, 0, 0, 0,\n",
      "        0, 0, 0, 0, 0, 0, 0, 0, 0, 0, 0, 0, 0, 0, 0, 0, 0, 0, 0, 0, 0, 0, 0, 0,\n",
      "        0, 0, 0, 0, 0, 0, 0, 0, 0, 0, 0, 0, 0, 0, 0, 0, 0, 0, 0, 0, 0, 0, 0, 0,\n",
      "        0, 0, 0, 0, 0, 0, 0, 0, 0, 0, 0, 0, 0, 0, 0, 0, 0, 0, 0, 0, 0, 0, 0, 0,\n",
      "        0, 0, 0, 0, 0, 0, 0, 0, 0, 0, 0, 0, 0, 0, 0, 0, 0, 0, 0, 0, 0, 0, 0, 0,\n",
      "        0, 0, 0, 0, 0, 0, 0, 0, 0, 0, 0, 0, 0, 0, 0, 0, 0, 0, 0, 0, 0, 0, 0, 0,\n",
      "        0, 0, 0, 0, 0, 0, 0, 0, 0, 0, 0, 0, 0, 0, 0, 0, 0, 0, 0, 0, 0, 0, 0, 0,\n",
      "        0, 0, 0, 0, 0, 0, 0, 0, 0, 0, 0, 0, 0, 0, 0, 0, 0, 0, 0, 0, 0, 0, 0, 0,\n",
      "        0, 0, 0, 0, 0, 0, 0, 0, 0, 0, 0, 0, 0, 0, 0, 0, 0, 0, 0, 0, 0, 0, 0, 0,\n",
      "        0, 0, 0, 0, 0, 0, 0, 0, 0, 0, 0, 0, 0, 0, 0, 0, 0, 0, 0, 0, 0, 0, 0, 0,\n",
      "        0, 0, 0, 0, 0, 0, 0, 0, 0, 0, 0, 0, 0, 0, 0, 0, 0, 0, 0, 0, 0, 0, 0, 0,\n",
      "        0, 0, 0, 0, 0, 0, 0, 0, 0, 0, 0, 0, 0, 0, 0, 0, 0, 0, 0, 0, 0, 0, 0, 0,\n",
      "        0, 0, 0, 0, 0, 0, 0, 0, 0, 0, 0, 0, 0, 0, 0, 0, 0, 0, 0, 0, 0, 0, 0, 0,\n",
      "        0, 0, 0, 0, 0, 0, 0, 0, 0, 0, 0, 0, 0, 0, 0, 0, 0, 0, 0, 0, 0, 0, 0, 0,\n",
      "        0, 0, 0, 0, 0, 0])\n"
     ]
    }
   ],
   "source": [
    "print(states_inferred)"
   ]
  },
  {
   "cell_type": "code",
   "execution_count": null,
   "metadata": {},
   "outputs": [],
   "source": []
  }
 ],
 "metadata": {
  "kernelspec": {
   "display_name": "base",
   "language": "python",
   "name": "python3"
  },
  "language_info": {
   "codemirror_mode": {
    "name": "ipython",
    "version": 3
   },
   "file_extension": ".py",
   "mimetype": "text/x-python",
   "name": "python",
   "nbconvert_exporter": "python",
   "pygments_lexer": "ipython3",
   "version": "3.11.5"
  }
 },
 "nbformat": 4,
 "nbformat_minor": 2
}
